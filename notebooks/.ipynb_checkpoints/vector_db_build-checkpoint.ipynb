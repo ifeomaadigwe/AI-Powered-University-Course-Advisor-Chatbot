{
 "cells": [
  {
   "cell_type": "code",
   "execution_count": 6,
   "id": "c3439832-378a-469f-8d5f-0a70d154ac8d",
   "metadata": {},
   "outputs": [],
   "source": [
    "from pathlib import Path\n",
    "from pypdf import PdfReader\n",
    "from sentence_transformers import SentenceTransformer\n",
    "import faiss\n",
    "import numpy as np\n"
   ]
  },
  {
   "cell_type": "code",
   "execution_count": 7,
   "id": "223f235b-618a-422c-b032-cc774a4bf304",
   "metadata": {},
   "outputs": [],
   "source": [
    "# Load all PDF files from docs/ folder\n",
    "pdf_dir = Path(\"../docs\")  # adjust if your path is different\n",
    "all_texts = []\n",
    "\n",
    "for pdf_path in pdf_dir.glob(\"*.pdf\"):\n",
    "    reader = PdfReader(pdf_path)\n",
    "    text = \"\"\n",
    "    for page in reader.pages:\n",
    "        text += page.extract_text() or \"\"\n",
    "    \n",
    "    # Optional: skip empty files\n",
    "    if text.strip():\n",
    "        all_texts.append({\"filename\": pdf_path.name, \"content\": text})\n"
   ]
  },
  {
   "cell_type": "code",
   "execution_count": 8,
   "id": "e86b2cd0-148f-4f9b-9ae4-43bc3c57c64e",
   "metadata": {},
   "outputs": [],
   "source": [
    "# Split texts into smaller chunks\n",
    "def split_text(text, chunk_size=500, overlap=50):\n",
    "    chunks = []\n",
    "    start = 0\n",
    "    while start < len(text):\n",
    "        end = start + chunk_size\n",
    "        chunk = text[start:end]\n",
    "        chunks.append(chunk)\n",
    "        start += chunk_size - overlap\n",
    "    return chunks\n",
    "\n",
    "# Apply to all loaded PDFs\n",
    "documents = []\n",
    "for item in all_texts:\n",
    "    chunks = split_text(item[\"content\"])\n",
    "    for chunk in chunks:\n",
    "        documents.append({\"filename\": item[\"filename\"], \"text\": chunk})\n"
   ]
  },
  {
   "cell_type": "code",
   "execution_count": 9,
   "id": "671e29e8-0272-4d9e-a134-99e2f968e2ae",
   "metadata": {},
   "outputs": [
    {
     "name": "stderr",
     "output_type": "stream",
     "text": [
      "Batches: 100%|███████████████████████████████████████████████████████████████████████████| 1/1 [00:00<00:00,  2.13it/s]\n"
     ]
    }
   ],
   "source": [
    "# Load a sentence transformer model\n",
    "model = SentenceTransformer(\"all-MiniLM-L6-v2\")\n",
    "\n",
    "# Generate embeddings\n",
    "texts = [doc[\"text\"] for doc in documents]\n",
    "embeddings = model.encode(texts, show_progress_bar=True)\n"
   ]
  },
  {
   "cell_type": "code",
   "execution_count": 10,
   "id": "496acc3b-a1a2-410b-8057-49cd33a9696c",
   "metadata": {},
   "outputs": [],
   "source": [
    "# Create FAISS index\n",
    "dimension = embeddings[0].shape[0]\n",
    "index = faiss.IndexFlatL2(dimension)\n",
    "index.add(np.array(embeddings))\n",
    "\n",
    "# Optional: Save index and documents\n",
    "faiss.write_index(index, \"docs/lmu_index.faiss\")\n",
    "\n",
    "import pickle\n",
    "with open(\"docs/lmu_documents.pkl\", \"wb\") as f:\n",
    "    pickle.dump(documents, f)\n"
   ]
  },
  {
   "cell_type": "code",
   "execution_count": null,
   "id": "f577c580-3744-4b35-9f24-b0685579e4ef",
   "metadata": {},
   "outputs": [],
   "source": []
  }
 ],
 "metadata": {
  "kernelspec": {
   "display_name": "Python 3 (ipykernel)",
   "language": "python",
   "name": "python3"
  },
  "language_info": {
   "codemirror_mode": {
    "name": "ipython",
    "version": 3
   },
   "file_extension": ".py",
   "mimetype": "text/x-python",
   "name": "python",
   "nbconvert_exporter": "python",
   "pygments_lexer": "ipython3",
   "version": "3.10.16"
  }
 },
 "nbformat": 4,
 "nbformat_minor": 5
}
