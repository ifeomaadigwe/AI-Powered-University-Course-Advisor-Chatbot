{
 "cells": [
  {
   "cell_type": "markdown",
   "id": "2c8426db-69bd-47c0-8686-54342c6e8714",
   "metadata": {},
   "source": [
    "# Project Title:\n",
    "## AI-Powered University Course Advisor Chatbot- by Ifeoma Augusta Adigwe"
   ]
  },
  {
   "cell_type": "markdown",
   "id": "c995be17-ee69-40c4-bd7e-ef879b21e928",
   "metadata": {},
   "source": [
    "### Project Overview:\n",
    "This project involves the development of an AI-powered course advisor chatbot for Deutsche Hochschule für Studien (Germany - fictional). Built with open-source tools, the chatbot offers real-time, document-grounded academic support by leveraging Retrieval-Augmented Generation (RAG) to extract course and policy details from institutional documents."
   ]
  },
  {
   "cell_type": "markdown",
   "id": "a0b14f98-92d5-431e-8a05-5d7f017d9193",
   "metadata": {},
   "source": [
    "## Business Context:\n",
    "Institution: Deutsche Hochschule für Studien (Germany - fictional)\n",
    "Sector: Higher Education\n",
    "Deutsche Hochschule für Studien  is one of Germany’s leading public research universities, with over 55,000 students and a reputation for academic excellence since 1872. As part of its digital transformation initiative, Deutsche Hochschule für Studien aims to adopt an AI-driven, cost-effective chatbot to improve student support services and reduce the workload on academic advisors."
   ]
  },
  {
   "cell_type": "markdown",
   "id": "f8a30ae6-0a96-44b9-9cb4-1280ab77103c",
   "metadata": {},
   "source": [
    "### Business Problems Addressed:\n",
    "- Difficulty for students in navigating complex course and policy documents\n",
    "- Overburdened academic advisors handling repetitive queries\n",
    "- Lack of 24/7 academic support for students\n",
    "- Need for a scalable, privacy-friendly automation solution\n",
    "- Student Decision-Making Delays & Course Selection Uncertainty"
   ]
  },
  {
   "cell_type": "markdown",
   "id": "be811139-d5bc-4df5-a0c5-3c4e178d9edd",
   "metadata": {},
   "source": [
    "### Project Objectives:\n",
    "- Provide instant academic guidance through an AI chatbot\n",
    "- Retrieve accurate information from structured and unstructured academic documents\n",
    "- Reduce advisor workload via automated, intelligent support\n",
    "- Deploy solution on AWS Free Tier infrastructure\n",
    "- Ensure solution is open-source and privacy-respecting"
   ]
  },
  {
   "cell_type": "markdown",
   "id": "339f54ea-d70e-468c-bc01-3af661b03913",
   "metadata": {},
   "source": [
    "### Tech Stack & Tools:\n",
    "##### Layer and  Toolset\n",
    "- Model (Mistral 7B / LLaMA 2 via Hugging Face Transformers)\n",
    "- Embeddings(SentenceTransformers (all-MiniLM-L6-v2))\n",
    "- Vector DB(FAISS / ChromaDB)\n",
    "- Interface\t(Streamlit / Gradio)\n",
    "- Deployment (AWS Free Tier (EC2 / Lambda / Amplify))"
   ]
  },
  {
   "cell_type": "code",
   "execution_count": null,
   "id": "3a618f78-c1d4-4adf-bc27-6d349d2771c8",
   "metadata": {},
   "outputs": [],
   "source": []
  },
  {
   "cell_type": "code",
   "execution_count": 1,
   "id": "ef46b370-f883-4881-8f10-6ebb51edc9bb",
   "metadata": {},
   "outputs": [
    {
     "name": "stdout",
     "output_type": "stream",
     "text": [
      "Requirement already satisfied: beautifulsoup4 in c:\\users\\ifeomaaugustaadigwe\\anaconda3\\lib\\site-packages (4.12.3)\n",
      "Requirement already satisfied: requests in c:\\users\\ifeomaaugustaadigwe\\anaconda3\\lib\\site-packages (2.32.3)\n",
      "Requirement already satisfied: weasyprint in c:\\users\\ifeomaaugustaadigwe\\anaconda3\\lib\\site-packages (65.1)\n",
      "Requirement already satisfied: soupsieve>1.2 in c:\\users\\ifeomaaugustaadigwe\\anaconda3\\lib\\site-packages (from beautifulsoup4) (2.5)\n",
      "Requirement already satisfied: charset-normalizer<4,>=2 in c:\\users\\ifeomaaugustaadigwe\\anaconda3\\lib\\site-packages (from requests) (3.3.2)\n",
      "Requirement already satisfied: certifi>=2017.4.17 in c:\\users\\ifeomaaugustaadigwe\\anaconda3\\lib\\site-packages (from requests) (2025.4.26)\n",
      "Requirement already satisfied: urllib3<3,>=1.21.1 in c:\\users\\ifeomaaugustaadigwe\\anaconda3\\lib\\site-packages (from requests) (2.3.0)\n",
      "Requirement already satisfied: idna<4,>=2.5 in c:\\users\\ifeomaaugustaadigwe\\anaconda3\\lib\\site-packages (from requests) (3.7)\n",
      "Requirement already satisfied: fonttools[woff]>=4.0.0 in c:\\users\\ifeomaaugustaadigwe\\anaconda3\\lib\\site-packages (from weasyprint) (4.58.0)\n",
      "Requirement already satisfied: Pyphen>=0.9.1 in c:\\users\\ifeomaaugustaadigwe\\anaconda3\\lib\\site-packages (from weasyprint) (0.17.2)\n",
      "Requirement already satisfied: tinyhtml5>=2.0.0b1 in c:\\users\\ifeomaaugustaadigwe\\anaconda3\\lib\\site-packages (from weasyprint) (2.0.0)\n",
      "Requirement already satisfied: tinycss2>=1.4.0 in c:\\users\\ifeomaaugustaadigwe\\anaconda3\\lib\\site-packages (from weasyprint) (1.4.0)\n",
      "Requirement already satisfied: Pillow>=9.1.0 in c:\\users\\ifeomaaugustaadigwe\\anaconda3\\lib\\site-packages (from weasyprint) (11.1.0)\n",
      "Requirement already satisfied: cssselect2>=0.8.0 in c:\\users\\ifeomaaugustaadigwe\\anaconda3\\lib\\site-packages (from weasyprint) (0.8.0)\n",
      "Requirement already satisfied: cffi>=0.6 in c:\\users\\ifeomaaugustaadigwe\\anaconda3\\lib\\site-packages (from weasyprint) (1.17.1)\n",
      "Requirement already satisfied: pydyf>=0.11.0 in c:\\users\\ifeomaaugustaadigwe\\anaconda3\\lib\\site-packages (from weasyprint) (0.11.0)\n",
      "Requirement already satisfied: pycparser in c:\\users\\ifeomaaugustaadigwe\\anaconda3\\lib\\site-packages (from cffi>=0.6->weasyprint) (2.21)\n",
      "Requirement already satisfied: webencodings in c:\\users\\ifeomaaugustaadigwe\\anaconda3\\lib\\site-packages (from cssselect2>=0.8.0->weasyprint) (0.5.1)\n",
      "Requirement already satisfied: brotli>=1.0.1 in c:\\users\\ifeomaaugustaadigwe\\anaconda3\\lib\\site-packages (from fonttools[woff]>=4.0.0->weasyprint) (1.0.9)\n",
      "Requirement already satisfied: zopfli>=0.1.4 in c:\\users\\ifeomaaugustaadigwe\\anaconda3\\lib\\site-packages (from fonttools[woff]>=4.0.0->weasyprint) (0.2.3.post1)\n",
      "Note: you may need to restart the kernel to use updated packages.\n"
     ]
    }
   ],
   "source": [
    "pip install beautifulsoup4 requests weasyprint"
   ]
  },
  {
   "cell_type": "code",
   "execution_count": 2,
   "id": "d4a2e86c-f070-4c84-bd6d-ad99887d3ff5",
   "metadata": {},
   "outputs": [],
   "source": [
    "from weasyprint import HTML\n",
    "HTML(string=\"<h1>Hello PDF</h1>\").write_pdf(\"test.pdf\")\n"
   ]
  },
  {
   "cell_type": "code",
   "execution_count": 3,
   "id": "efa7b187-1f9e-4d06-9288-4a5c3dc965d4",
   "metadata": {},
   "outputs": [],
   "source": [
    "# Import all necessary libraries\n",
    "import os\n",
    "import requests\n",
    "from bs4 import BeautifulSoup\n",
    "from weasyprint import HTML\n",
    "import pandas as pd\n",
    "import numpy as np\n",
    "import seaborn as sns\n",
    "import matplotlib.pyplot as plt"
   ]
  },
  {
   "cell_type": "code",
   "execution_count": 4,
   "id": "613ec650-59cc-4feb-a162-163ee24f1c55",
   "metadata": {},
   "outputs": [],
   "source": [
    "# Create \"docs\" in my Project Folder to save scraped urls in PDF format\n",
    "os.makedirs(\"docs\", exist_ok=True)"
   ]
  },
  {
   "cell_type": "markdown",
   "id": "890ba0a9-a3e6-4c95-9dcf-ae1b249f968f",
   "metadata": {},
   "source": [
    "### Get the dataset - urls from University site online"
   ]
  },
  {
   "cell_type": "code",
   "execution_count": 5,
   "id": "e457005d-bb4f-4382-9946-b9a9e1e2b8ab",
   "metadata": {},
   "outputs": [
    {
     "name": "stdout",
     "output_type": "stream",
     "text": [
      "Fetching: Admissions\n",
      "Saved: docs/admissions.pdf\n",
      "Fetching: Language Requirements\n",
      "Saved: docs/language_requirements.pdf\n",
      "Fetching: Fees and Finances\n",
      "Saved: docs/fees_and_finances.pdf\n",
      "Fetching: Living Costs and Funding\n",
      "Saved: docs/living_costs_and_funding.pdf\n",
      "Fetching: Enrollment Guide\n",
      "Saved: docs/enrollment_guide.pdf\n",
      "Fetching: Housing Info\n",
      "Saved: docs/housing_info.pdf\n",
      "Fetching: Academic Calendar\n",
      "Saved: docs/academic_calendar.pdf\n",
      "Fetching: Course Catalog\n",
      "Saved: docs/course_catalog.pdf\n",
      "Fetching: Program Outline\n",
      "Saved: docs/program_outline.pdf\n"
     ]
    }
   ],
   "source": [
    "# Use beautiful soup to scrape the URL of the reuired info from the University site and convert to pdf\n",
    "\n",
    "# URLs to scrape\n",
    "url_map = {\n",
    "    \"Admissions\": \"https://www.en.uni-muenchen.de/students/degree/index.html\",\n",
    "    \"Language Requirements\": \"https://www.en.uni-muenchen.de/students/int_student_guide/language/index.html\",\n",
    "    \"Fees and Finances\": \"https://www.en.uni-muenchen.de/students/fees/index.html\",\n",
    "    \"Living Costs and Funding\": \"https://www.en.uni-muenchen.de/students/int_student_guide/finance/index.html\",\n",
    "    \"Enrollment Guide\": \"https://www.en.uni-muenchen.de/students/int_student_guide/first_steps/index.html\",\n",
    "    \"Housing Info\": \"https://www.en.uni-muenchen.de/students/int_student_guide/housing/index.html\",\n",
    "    \"Academic Calendar\": \"https://www.en.uni-muenchen.de/students/int_student_guide/dates/index.html\",\n",
    "    \"Course Catalog\": \"https://www.en.uni-muenchen.de/students/degree/index.html\",\n",
    "    \"Program Outline\": \"https://www.en.uni-muenchen.de/students/degree/master_programs/index.html\"\n",
    "}\n",
    "\n",
    "\n",
    "# Main loop\n",
    "for title, url in url_map.items():\n",
    "    try:\n",
    "        print(f\"Fetching: {title}\")\n",
    "        res = requests.get(url)\n",
    "        soup = BeautifulSoup(res.text, \"html.parser\")\n",
    "\n",
    "        # Make the dataset clean by removing unwanted tags\n",
    "        for tag in soup([\"nav\", \"footer\", \"script\", \"style\", \"header\", \"aside\"]):\n",
    "            tag.decompose()\n",
    "\n",
    "        # Convert to PDF\n",
    "        clean_html = str(soup)\n",
    "        filename = f\"docs/{title.replace(' ', '_').lower()}.pdf\"\n",
    "        HTML(string=clean_html).write_pdf(filename)\n",
    "        print(f\"Saved: {filename}\")\n",
    "    except Exception as e:\n",
    "        print(f\"Failed on {title}: {e}\")\n"
   ]
  },
  {
   "cell_type": "markdown",
   "id": "e39f190c-8489-4c3f-9b5d-475142cbf54d",
   "metadata": {},
   "source": [
    "### Vector DB (FAISS)\n",
    "#### PDF ➜ Text Chunks ➜ Embeddings ➜ Vector DB (FAISS)"
   ]
  },
  {
   "cell_type": "code",
   "execution_count": null,
   "id": "3ef585ee-0b61-4f1a-8755-b74030a3575b",
   "metadata": {},
   "outputs": [],
   "source": []
  }
 ],
 "metadata": {
  "kernelspec": {
   "display_name": "Python 3 (ipykernel)",
   "language": "python",
   "name": "python3"
  },
  "language_info": {
   "codemirror_mode": {
    "name": "ipython",
    "version": 3
   },
   "file_extension": ".py",
   "mimetype": "text/x-python",
   "name": "python",
   "nbconvert_exporter": "python",
   "pygments_lexer": "ipython3",
   "version": "3.10.16"
  }
 },
 "nbformat": 4,
 "nbformat_minor": 5
}
